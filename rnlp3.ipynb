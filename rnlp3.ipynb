{
 "cells": [
  {
   "cell_type": "code",
   "execution_count": 56,
   "metadata": {},
   "outputs": [
    {
     "name": "stdout",
     "output_type": "stream",
     "text": [
      "accuarcy: 0.858\n",
      "precision: 0.0\n",
      "recall: 0.0\n",
      "f1: nan\n"
     ]
    },
    {
     "name": "stderr",
     "output_type": "stream",
     "text": [
      "/usr/local/lib/python3.7/dist-packages/sklearn/linear_model/logistic.py:432: FutureWarning: Default solver will be changed to 'lbfgs' in 0.22. Specify a solver to silence this warning.\n",
      "  FutureWarning)\n",
      "/usr/local/lib/python3.7/dist-packages/ipykernel_launcher.py:38: RuntimeWarning: invalid value encountered in double_scalars\n"
     ]
    }
   ],
   "source": [
    "import pandas as pd\n",
    "import re \n",
    "import string\n",
    "from sklearn.model_selection import train_test_split\n",
    "from sklearn.feature_extraction.text import CountVectorizer\n",
    "from sklearn.linear_model import LogisticRegression\n",
    "from sklearn.metrics import confusion_matrix\n",
    "import matplotlib.pyplot as plt \n",
    "import numpy as np\n",
    "#import seaborn as sns\n",
    "data = pd.read_table(\"spam.txt\", header = None)\n",
    "data.columns = [\"lable\", \"text\"]\n",
    "#data.head()\n",
    "rnumeric = lambda x: re.sub(\"\\w*\\d\\w*\", '',x)\n",
    "rpunc = lambda x: re.sub(\"[%s]\" % re.escape(string.punctuation), '',x.lower())\n",
    "data[\"text\"] = data.text.map(rnumeric).map(rpunc)\n",
    "#data.head()\n",
    "x = data.text\n",
    "y = data.lable\n",
    "#x.head()\n",
    "#y.head()\n",
    "x_train, x_test, y_train, y_test = train_test_split(x,y,test_size=0.3, random_state = 32)\n",
    "cv = CountVectorizer(stop_words = \"english\")\n",
    "x_train_cv = cv.fit_transform(x_train)\n",
    "x_test_cv = cv.transform(x_test)\n",
    "#print(x_train_cv.toarray().shape)\n",
    "lr = LogisticRegression()\n",
    "lr.fit(x_train_cv,y_train)\n",
    "pred = lr.predict(x_test_cv)\n",
    "cm = confusion_matrix(pred,y_test)\n",
    "#sns.heatmap(cm, xticklabels=['predicted_ham', 'predicted_spam'], yticklabels=['actual_ham', 'actual_spam'],\n",
    "#annot=True, fmt='d', annot_kws={'fontsize':20}, cmap=\"YlGnBu\");\n",
    "true_neg, false_pos = cm[0]\n",
    "true_pos, false_neg = cm[1]\n",
    "accuracy = round((true_pos + true_neg)/(true_neg + true_pos + false_pos + false_neg),3)\n",
    "precision = round((true_pos) / (true_pos + false_pos),3)\n",
    "recall = round((true_pos) / (true_pos + false_neg),3)\n",
    "f1 = round(2 * (precision * recall) / (precision + recall),3)\n",
    "print(\"accuarcy: {}\".format(accuracy))\n",
    "print(\"precision: {}\".format(precision))\n",
    "print(\"recall: {}\".format(recall))\n",
    "print(\"f1: {}\".format(f1))\n"
   ]
  },
  {
   "cell_type": "code",
   "execution_count": null,
   "metadata": {},
   "outputs": [],
   "source": []
  },
  {
   "cell_type": "code",
   "execution_count": null,
   "metadata": {},
   "outputs": [],
   "source": [
    "\n"
   ]
  },
  {
   "cell_type": "code",
   "execution_count": null,
   "metadata": {},
   "outputs": [],
   "source": []
  }
 ],
 "metadata": {
  "kernelspec": {
   "display_name": "Python 3",
   "language": "python",
   "name": "python3"
  },
  "language_info": {
   "codemirror_mode": {
    "name": "ipython",
    "version": 3
   },
   "file_extension": ".py",
   "mimetype": "text/x-python",
   "name": "python",
   "nbconvert_exporter": "python",
   "pygments_lexer": "ipython3",
   "version": "3.7.5rc1"
  }
 },
 "nbformat": 4,
 "nbformat_minor": 2
}
