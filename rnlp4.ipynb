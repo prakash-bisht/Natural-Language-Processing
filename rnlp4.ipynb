{
 "cells": [
  {
   "cell_type": "raw",
   "metadata": {},
   "source": []
  },
  {
   "cell_type": "raw",
   "metadata": {},
   "source": [
    "\n"
   ]
  },
  {
   "cell_type": "code",
   "execution_count": 1,
   "metadata": {},
   "outputs": [
    {
     "name": "stdout",
     "output_type": "stream",
     "text": [
      "[0.90361994 0.01121763 0.01000007 0.07516236]\n"
     ]
    }
   ],
   "source": [
    "from sklearn.datasets import fetch_20newsgroups\n",
    "from sklearn.feature_extraction.text import CountVectorizer\n",
    "from sklearn.decomposition import LatentDirichletAllocation\n",
    "import pandas as pd \n",
    "ng = fetch_20newsgroups(subset = 'train', remove = ('headers','quotes','footers'))\n",
    "#print(\"the data has {0:d} documents\".format(len(ng.data)))\n",
    "#print(ng.data[11047][:200])\n",
    "cv = CountVectorizer(ngram_range=(1,2), stop_words = 'english', lowercase = True,max_features = 1000,token_pattern = \"\\\\b[a-z][a-z]+\\\\b\" )\n",
    "x = cv.fit_transform(ng.data)\n",
    "x\n",
    "#print(cv.get_feature_names()[92:97])\n",
    "data = pd.DataFrame(x.toarray(),columns = cv.get_feature_names())\n",
    "#print(data.iloc[10:15, 92:97])\n",
    "lda = LatentDirichletAllocation(n_components = 4, random_state = 42, learning_method ='online')\n",
    "d = lda.fit_transform(x)\n",
    "print(d[0])\n"
   ]
  },
  {
   "cell_type": "code",
   "execution_count": null,
   "metadata": {},
   "outputs": [],
   "source": []
  }
 ],
 "metadata": {
  "kernelspec": {
   "display_name": "Python 3",
   "language": "python",
   "name": "python3"
  },
  "language_info": {
   "codemirror_mode": {
    "name": "ipython",
    "version": 3
   },
   "file_extension": ".py",
   "mimetype": "text/x-python",
   "name": "python",
   "nbconvert_exporter": "python",
   "pygments_lexer": "ipython3",
   "version": "3.7.5rc1"
  }
 },
 "nbformat": 4,
 "nbformat_minor": 2
}
