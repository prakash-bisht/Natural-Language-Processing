{
 "cells": [
  {
   "cell_type": "code",
   "execution_count": 49,
   "metadata": {},
   "outputs": [
    {
     "data": {
      "text/plain": [
       "(11314, 5)"
      ]
     },
     "execution_count": 49,
     "metadata": {},
     "output_type": "execute_result"
    }
   ],
   "source": [
    "from sklearn import datasets\n",
    "import pandas as pd\n",
    "from sklearn.decomposition import PCA\n",
    "import numpy as np\n",
    "from sklearn.feature_extraction.text import TfidfVectorizer\n",
    "from sklearn.datasets import fetch_20newsgroups\n",
    "from sklearn.decomposition import TruncatedSVD\n",
    "import pandas as pd\n",
    "from sklearn.decomposition import NMF\n",
    "iris = datasets.load_iris()\n",
    "iris_data = iris.data\n",
    "iris_data = pd.DataFrame(iris_data)\n",
    "iris_data.columns = ['Sepal_Length', 'Sepal_Width', 'Petal_Length', 'Petal_Width']\n",
    "#print(iris_data.head())\n",
    "pca = PCA(n_components = 1)\n",
    "pcaa = pca.fit_transform(iris_data)\n",
    "#print(pca.components_[0])\n",
    "#print(pcaa[:5])\n",
    "u, sigma, v = np.linalg.svd(iris_data)\n",
    "rreconst = np.matrix(u)[:,:4] * np.diag(sigma) * np.matrix(v)\n",
    "#print(np.array(rreconst[:5,:]))\n",
    "#print(np.array(iris_data)[:5,])\n",
    "reconst = np.matrix(u)[:,:3] * np.diag(sigma[:3]) * np.matrix(v[:3])\n",
    "#print(np.array(reconst[:5,:]))\n",
    "#print(np.array(iris_data)[:5,])\n",
    "#reconst.shape\n",
    "    #LSA\n",
    "ng_train = fetch_20newsgroups(subset='train', remove=('headres', 'footers', 'quotes'))\n",
    "tfidf_vectorizer = TfidfVectorizer(ngram_range=(1, 2),\n",
    "stop_words='english',\n",
    "token_pattern=\"\\\\b[a-z][a-z]+\\\\b\",\n",
    "lowercase=True,\n",
    "max_df = 0.6)\n",
    "tfidf_data = tfidf_vectorizer.fit_transform(ng_train.data)\n",
    "lsaa = TruncatedSVD(n_components = 10)\n",
    "lsa = lsaa.fit_transform(tfidf_data)\n",
    "#print(lsa[:,5])\n",
    "nmff = NMF(n_components = 5)\n",
    "nmf = nmff.fit_transform(tfidf_data)\n",
    "nmf.shape"
   ]
  },
  {
   "cell_type": "code",
   "execution_count": null,
   "metadata": {},
   "outputs": [],
   "source": []
  }
 ],
 "metadata": {
  "kernelspec": {
   "display_name": "Python 3",
   "language": "python",
   "name": "python3"
  },
  "language_info": {
   "codemirror_mode": {
    "name": "ipython",
    "version": 3
   },
   "file_extension": ".py",
   "mimetype": "text/x-python",
   "name": "python",
   "nbconvert_exporter": "python",
   "pygments_lexer": "ipython3",
   "version": "3.7.5rc1"
  }
 },
 "nbformat": 4,
 "nbformat_minor": 2
}
