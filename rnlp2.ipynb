{
 "cells": [
  {
   "cell_type": "code",
   "execution_count": 58,
   "metadata": {},
   "outputs": [
    {
     "data": {
      "text/plain": [
       "[(array([[0.33333333]]),\n",
       "  ('I make my hot chocolate with milk', 'I will have a chai latte with milk')),\n",
       " (array([[0.2981424]]),\n",
       "  ('The weather is hot under the sun', 'There is a hot sale today')),\n",
       " (array([[0.25819889]]), ('One hot encoding', 'There is a hot sale today')),\n",
       " (array([[0.23570226]]),\n",
       "  ('I make my hot chocolate with milk', 'One hot encoding')),\n",
       " (array([[0.19245009]]),\n",
       "  ('The weather is hot under the sun', 'One hot encoding')),\n",
       " (array([[0.18257419]]),\n",
       "  ('I make my hot chocolate with milk', 'There is a hot sale today')),\n",
       " (array([[0.13608276]]),\n",
       "  ('The weather is hot under the sun', 'I make my hot chocolate with milk')),\n",
       " (array([[0.]]),\n",
       "  ('The weather is hot under the sun', 'I will have a chai latte with milk')),\n",
       " (array([[0.]]), ('One hot encoding', 'I will have a chai latte with milk')),\n",
       " (array([[0.]]),\n",
       "  ('I will have a chai latte with milk', 'There is a hot sale today'))]"
      ]
     },
     "execution_count": 58,
     "metadata": {},
     "output_type": "execute_result"
    }
   ],
   "source": [
    "import pandas as pd\n",
    "from sklearn.feature_extraction.text import CountVectorizer\n",
    "from sklearn.feature_extraction.text import TfidfVectorizer\n",
    "from textblob import TextBlob\n",
    "from numpy import dot \n",
    "from numpy.linalg import norm\n",
    "from itertools import combinations\n",
    "from sklearn.metrics.pairwise import cosine_similarity\n",
    "my_text = TextBlob(\"i live there since last day \")\n",
    "#my_text.words\n",
    "blob = TextBlob(\"i am graat at spelling\")\n",
    "#print(blob.correct())\n",
    "corpus = [\n",
    "     'This is the first document.',\n",
    "     'This document is the second document.',\n",
    "     'And this is the third one.',\n",
    "     'Is this the first document?',\n",
    " ]\n",
    "cv = CountVectorizer()\n",
    "x = cv.fit_transform(corpus)          \n",
    "#print(x.toarray())           \n",
    "data = pd.DataFrame(x.toarray(), columns = cv.get_feature_names())  \n",
    "#print(data)\n",
    "cosine = lambda v1, v2 : dot(v1,v2) / (norm(v1) * norm(v2))\n",
    "cosine([1,1,1,0],[1,1,0,1])\n",
    "tfidf = TfidfVectorizer()\n",
    "x = tfidf.fit_transform(corpus)\n",
    "dt = pd.DataFrame(x.toarray(), columns = tfidf.get_feature_names())\n",
    "#print(dt)\n",
    "corp = ['The weather is hot under the sun',\n",
    "'I make my hot chocolate with milk',\n",
    "'One hot encoding',\n",
    "'I will have a chai latte with milk',\n",
    "'There is a hot sale today']\n",
    "cv = CountVectorizer()\n",
    "x = cv.fit_transform(corp).toarray()                    \n",
    "data = pd.DataFrame(x, columns = cv.get_feature_names()) \n",
    "pairs = list(combinations(range(len(corp)),2))\n",
    "combos = [(corp[a_index],corp[b_index]) for (a_index, b_index) in pairs]\n",
    "results = [cosine_similarity([x[a_index]],[x[b_index]]) for (a_index, b_index) in pairs]\n",
    "\n",
    "sorted(zip(results,combos),reverse = True) "
   ]
  },
  {
   "cell_type": "code",
   "execution_count": null,
   "metadata": {},
   "outputs": [],
   "source": []
  },
  {
   "cell_type": "code",
   "execution_count": null,
   "metadata": {},
   "outputs": [],
   "source": []
  }
 ],
 "metadata": {
  "kernelspec": {
   "display_name": "Python 3",
   "language": "python",
   "name": "python3"
  },
  "language_info": {
   "codemirror_mode": {
    "name": "ipython",
    "version": 3
   },
   "file_extension": ".py",
   "mimetype": "text/x-python",
   "name": "python",
   "nbconvert_exporter": "python",
   "pygments_lexer": "ipython3",
   "version": "3.7.5rc1"
  }
 },
 "nbformat": 4,
 "nbformat_minor": 2
}
